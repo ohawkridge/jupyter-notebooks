{
  "nbformat": 4,
  "nbformat_minor": 0,
  "metadata": {
    "colab": {
      "provenance": []
    },
    "kernelspec": {
      "name": "python3",
      "display_name": "Python 3"
    },
    "language_info": {
      "name": "python"
    }
  },
  "cells": [
    {
      "cell_type": "markdown",
      "source": [
        "# Data Science Tools and Ecosystem"
      ],
      "metadata": {
        "id": "Wh5UDpLMX8R4"
      }
    },
    {
      "cell_type": "markdown",
      "source": [
        "In this notebook, Data Science Tools and Ecosystem are summarised."
      ],
      "metadata": {
        "id": "glT-cDtkY2cO"
      }
    },
    {
      "cell_type": "markdown",
      "source": [
        "**Objectives:**\n",
        "\n",
        "*  List popular languages for Data Science\n",
        "*  List common languages used by Data Scientists\n",
        "*  List Data Science environments\n",
        "*  Show evaluation of simple arithmetic"
      ],
      "metadata": {
        "id": "_5n_hvEJdF-G"
      }
    },
    {
      "cell_type": "markdown",
      "source": [
        "Popular languages that Data Scientists use:\n",
        "\n",
        "*   Python\n",
        "*   Julia\n",
        "*   Scala\n",
        "*   R\n",
        "*   SQL\n",
        "*   MATLAB\n",
        "\n"
      ],
      "metadata": {
        "id": "oblwbud6ZTe-"
      }
    },
    {
      "cell_type": "markdown",
      "source": [
        "Common libraries used by Data Scientists include:\n",
        "\n",
        "*    Numpy\n",
        "*    Pandas\n",
        "*    Matplotlib\n",
        "*    SciPy\n",
        "*    Tensorflow\n",
        "*    Ggplot2\n",
        "*    Caret"
      ],
      "metadata": {
        "id": "FgqUhgHOaM5J"
      }
    },
    {
      "cell_type": "markdown",
      "source": [
        "| Data Science Tools |\n",
        "|--------------------|\n",
        "| Jupyter Notebook   |\n",
        "| RStudio            |\n",
        "| VS Code            |"
      ],
      "metadata": {
        "id": "aTWTFZJUbPsW"
      }
    },
    {
      "cell_type": "markdown",
      "source": [
        "### Examples of arithmetic expressions in Python"
      ],
      "metadata": {
        "id": "_hsVCEPsb34j"
      }
    },
    {
      "cell_type": "code",
      "source": [
        "# Simple expression to mutiply then add integers\n",
        "(3*4)+5"
      ],
      "metadata": {
        "colab": {
          "base_uri": "https://localhost:8080/"
        },
        "id": "qItMNmUpcKKW",
        "outputId": "e0b17055-1fbe-45ae-afeb-c8701a7dc5d8"
      },
      "execution_count": 1,
      "outputs": [
        {
          "output_type": "execute_result",
          "data": {
            "text/plain": [
              "17"
            ]
          },
          "metadata": {},
          "execution_count": 1
        }
      ]
    },
    {
      "cell_type": "code",
      "source": [
        "# Convert 200 minutes to hours by diving by 60\n",
        "round(200/60, 2)"
      ],
      "metadata": {
        "colab": {
          "base_uri": "https://localhost:8080/"
        },
        "id": "rhoEqL7hcgzA",
        "outputId": "cdcec3f8-a4f2-48da-c6ef-d304e246f20c"
      },
      "execution_count": 2,
      "outputs": [
        {
          "output_type": "execute_result",
          "data": {
            "text/plain": [
              "3.33"
            ]
          },
          "metadata": {},
          "execution_count": 2
        }
      ]
    },
    {
      "cell_type": "markdown",
      "source": [
        "## Author\n",
        "\n",
        "Owen Hawkridge"
      ],
      "metadata": {
        "id": "vYJl8Vn1dymd"
      }
    }
  ]
}